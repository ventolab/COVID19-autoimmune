{
 "cells": [
  {
   "cell_type": "markdown",
   "id": "growing-scout",
   "metadata": {},
   "source": [
    "Run CellPhoneDB"
   ]
  },
  {
   "cell_type": "code",
   "execution_count": 1,
   "id": "modified-programmer",
   "metadata": {},
   "outputs": [
    {
     "name": "stdout",
     "output_type": "stream",
     "text": [
      "/home/jovyan/COVID/NB6_CellPhoneDB\n"
     ]
    }
   ],
   "source": [
    "%%bash\n",
    "pwd"
   ]
  },
  {
   "cell_type": "code",
   "execution_count": 2,
   "id": "incorporated-chrome",
   "metadata": {},
   "outputs": [],
   "source": [
    "%%bash\n",
    "source ~/COVID/NB6_CellPhoneDB/cpdb/bin/activate"
   ]
  },
  {
   "cell_type": "code",
   "execution_count": 3,
   "id": "dangerous-basics",
   "metadata": {},
   "outputs": [
    {
     "name": "stdout",
     "output_type": "stream",
     "text": [
      "[ ][APP][03/04/21-18:42:50][WARNING] User selected database `/home/jovyan/COVID/NB6_CellPhoneDB/database_20210402/cellphonedb_user_2021-04-02-19_39.db` is available, using it\n",
      "[ ][CORE][03/04/21-18:42:50][INFO] Initializing SqlAlchemy CellPhoneDB Core\n",
      "[ ][CORE][03/04/21-18:42:50][INFO] Using custom database at /home/jovyan/COVID/NB6_CellPhoneDB/database_20210402/cellphonedb_user_2021-04-02-19_39.db\n",
      "[ ][APP][03/04/21-18:42:50][INFO] Launching Method cpdb_analysis_local_method_launcher\n",
      "[ ][APP][03/04/21-18:42:50][INFO] Launching Method _set_paths\n",
      "[ ][APP][03/04/21-18:42:50][WARNING] Output directory (/home/jovyan/COVID/NB6_CellPhoneDB/out_20210402/) exist and is not empty. Result can overwrite old results\n",
      "[ ][APP][03/04/21-18:42:50][INFO] Launching Method _load_meta_counts\n",
      "[ ][CORE][03/04/21-20:05:53][INFO] Launching Method cpdb_method_analysis_launcher\n",
      "[ ][CORE][03/04/21-20:05:53][INFO] Launching Method _counts_validations\n",
      "[ ][CORE][03/04/21-20:08:29][INFO] [Non Statistical Method] Threshold:0.0 Precision:3\n",
      "[ ][CORE][03/04/21-20:09:12][INFO] Running Real Analysis\n",
      "[ ][CORE][03/04/21-20:10:24][INFO] Building results\n"
     ]
    },
    {
     "name": "stderr",
     "output_type": "stream",
     "text": [
      "/opt/conda/lib/python3.8/site-packages/sklearn/utils/deprecation.py:144: FutureWarning: The sklearn.cluster.k_means_ module is  deprecated in version 0.22 and will be removed in version 0.24. The corresponding classes / functions should instead be imported from sklearn.cluster. Anything that cannot be imported from sklearn.cluster is now part of the private API.\n",
      "  warnings.warn(message, FutureWarning)\n"
     ]
    }
   ],
   "source": [
    "%%bash\n",
    "cellphonedb method analysis \\\n",
    "    /lustre/scratch117/cellgen/team292/ab55/20210402_cellphonedb_meta.tsv \\\n",
    "    /lustre/scratch117/cellgen/team292/ab55/20210402_cellphonedb_counts.csv \\\n",
    "    --database /home/jovyan/COVID/NB6_CellPhoneDB/database_20210402/cellphonedb_user_2021-04-02-19_39.db \\\n",
    "    --counts-data hgnc_symbol \\\n",
    "    --output-path /home/jovyan/COVID/NB6_CellPhoneDB/out_20210402/ \\\n",
    "    --threshold 0"
   ]
  },
  {
   "cell_type": "markdown",
   "id": "weekly-petite",
   "metadata": {},
   "source": [
    "End of Notebook"
   ]
  }
 ],
 "metadata": {
  "kernelspec": {
   "display_name": "Python 3",
   "language": "python",
   "name": "python3"
  },
  "language_info": {
   "codemirror_mode": {
    "name": "ipython",
    "version": 3
   },
   "file_extension": ".py",
   "mimetype": "text/x-python",
   "name": "python",
   "nbconvert_exporter": "python",
   "pygments_lexer": "ipython3",
   "version": "3.8.8"
  }
 },
 "nbformat": 4,
 "nbformat_minor": 5
}
